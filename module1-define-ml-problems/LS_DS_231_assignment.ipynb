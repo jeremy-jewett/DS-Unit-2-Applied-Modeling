{
 "cells": [
  {
   "cell_type": "markdown",
   "metadata": {
    "colab_type": "text",
    "id": "nCc3XZEyG3XV"
   },
   "source": [
    "Lambda School Data Science\n",
    "\n",
    "*Unit 2, Sprint 3, Module 1*\n",
    "\n",
    "---\n",
    "\n",
    "\n",
    "# Define ML problems\n",
    "\n",
    "You will use your portfolio project dataset for all assignments this sprint.\n",
    "\n",
    "## Assignment\n",
    "\n",
    "Complete these tasks for your project, and document your decisions.\n",
    "\n",
    "- [ ] Choose your target. Which column in your tabular dataset will you predict?\n",
    "- [ ] Is your problem regression or classification?\n",
    "- [ ] How is your target distributed?\n",
    "    - Classification: How many classes? Are the classes imbalanced?\n",
    "    - Regression: Is the target right-skewed? If so, you may want to log transform the target.\n",
    "- [ ] Choose your evaluation metric(s).\n",
    "    - Classification: Is your majority class frequency >= 50% and < 70% ? If so, you can just use accuracy if you want. Outside that range, accuracy could be misleading. What evaluation metric will you choose, in addition to or instead of accuracy?\n",
    "    - Regression: Will you use mean absolute error, root mean squared error, R^2, or other regression metrics?\n",
    "- [ ] Choose which observations you will use to train, validate, and test your model.\n",
    "    - Are some observations outliers? Will you exclude them?\n",
    "    - Will you do a random split or a time-based split?\n",
    "- [ ] Begin to clean and explore your data.\n",
    "- [ ] Begin to choose which features, if any, to exclude. Would some features \"leak\" future information?\n",
    "\n",
    "If you haven't found a dataset yet, do that today. [Review requirements for your portfolio project](https://lambdaschool.github.io/ds/unit2) and choose your dataset.\n",
    "\n",
    "Some students worry, ***what if my model isn't “good”?*** Then, [produce a detailed tribute to your wrongness. That is science!](https://twitter.com/nathanwpyle/status/1176860147223867393)"
   ]
  },
  {
   "cell_type": "code",
   "execution_count": 2,
   "metadata": {},
   "outputs": [
    {
     "data": {
      "text/html": [
       "<div>\n",
       "<style scoped>\n",
       "    .dataframe tbody tr th:only-of-type {\n",
       "        vertical-align: middle;\n",
       "    }\n",
       "\n",
       "    .dataframe tbody tr th {\n",
       "        vertical-align: top;\n",
       "    }\n",
       "\n",
       "    .dataframe thead th {\n",
       "        text-align: right;\n",
       "    }\n",
       "</style>\n",
       "<table border=\"1\" class=\"dataframe\">\n",
       "  <thead>\n",
       "    <tr style=\"text-align: right;\">\n",
       "      <th></th>\n",
       "      <th>Pos</th>\n",
       "      <th>Driver</th>\n",
       "      <th>Location</th>\n",
       "      <th>Region</th>\n",
       "      <th>Club</th>\n",
       "      <th>Starts</th>\n",
       "      <th>Wins</th>\n",
       "      <th>Avg Start</th>\n",
       "      <th>Avg Finish</th>\n",
       "      <th>Avg Pts per Race</th>\n",
       "      <th>...</th>\n",
       "      <th>Avg Field Size</th>\n",
       "      <th>Laps</th>\n",
       "      <th>Laps Lead</th>\n",
       "      <th>Avg Inc</th>\n",
       "      <th>Class</th>\n",
       "      <th>iRating</th>\n",
       "      <th>ttRating</th>\n",
       "      <th>Club Pts</th>\n",
       "      <th>Total Pts</th>\n",
       "      <th>CustId</th>\n",
       "    </tr>\n",
       "  </thead>\n",
       "  <tbody>\n",
       "    <tr>\n",
       "      <th>0</th>\n",
       "      <td>1</td>\n",
       "      <td>Blake Matjoulis</td>\n",
       "      <td>US</td>\n",
       "      <td>Region 1</td>\n",
       "      <td>New York</td>\n",
       "      <td>854</td>\n",
       "      <td>533</td>\n",
       "      <td>3</td>\n",
       "      <td>2</td>\n",
       "      <td>139</td>\n",
       "      <td>...</td>\n",
       "      <td>14</td>\n",
       "      <td>31716</td>\n",
       "      <td>19687</td>\n",
       "      <td>1.31</td>\n",
       "      <td>P 4.99</td>\n",
       "      <td>9361</td>\n",
       "      <td>1350</td>\n",
       "      <td>14275</td>\n",
       "      <td>118383</td>\n",
       "      <td>273418</td>\n",
       "    </tr>\n",
       "    <tr>\n",
       "      <th>1</th>\n",
       "      <td>2</td>\n",
       "      <td>Dillon Semmelmann</td>\n",
       "      <td>US</td>\n",
       "      <td>Region 3</td>\n",
       "      <td>Midwest</td>\n",
       "      <td>1857</td>\n",
       "      <td>1183</td>\n",
       "      <td>2</td>\n",
       "      <td>3</td>\n",
       "      <td>135</td>\n",
       "      <td>...</td>\n",
       "      <td>15</td>\n",
       "      <td>60376</td>\n",
       "      <td>40022</td>\n",
       "      <td>2.19</td>\n",
       "      <td>P 3.49</td>\n",
       "      <td>9110</td>\n",
       "      <td>1329</td>\n",
       "      <td>10306</td>\n",
       "      <td>250122</td>\n",
       "      <td>270914</td>\n",
       "    </tr>\n",
       "    <tr>\n",
       "      <th>2</th>\n",
       "      <td>3</td>\n",
       "      <td>Evan Seay</td>\n",
       "      <td>US</td>\n",
       "      <td>Region 1</td>\n",
       "      <td>Carolina</td>\n",
       "      <td>935</td>\n",
       "      <td>320</td>\n",
       "      <td>4</td>\n",
       "      <td>4</td>\n",
       "      <td>117</td>\n",
       "      <td>...</td>\n",
       "      <td>14</td>\n",
       "      <td>34052</td>\n",
       "      <td>13097</td>\n",
       "      <td>1.90</td>\n",
       "      <td>P 4.37</td>\n",
       "      <td>8868</td>\n",
       "      <td>1235</td>\n",
       "      <td>5018</td>\n",
       "      <td>109414</td>\n",
       "      <td>330143</td>\n",
       "    </tr>\n",
       "    <tr>\n",
       "      <th>3</th>\n",
       "      <td>4</td>\n",
       "      <td>Alex A Bergeron</td>\n",
       "      <td>CA</td>\n",
       "      <td>Region 2</td>\n",
       "      <td>Canada</td>\n",
       "      <td>1397</td>\n",
       "      <td>898</td>\n",
       "      <td>3</td>\n",
       "      <td>2</td>\n",
       "      <td>127</td>\n",
       "      <td>...</td>\n",
       "      <td>14</td>\n",
       "      <td>46674</td>\n",
       "      <td>28271</td>\n",
       "      <td>1.52</td>\n",
       "      <td>P 4.52</td>\n",
       "      <td>8557</td>\n",
       "      <td>1377</td>\n",
       "      <td>29758</td>\n",
       "      <td>177230</td>\n",
       "      <td>246298</td>\n",
       "    </tr>\n",
       "    <tr>\n",
       "      <th>4</th>\n",
       "      <td>5</td>\n",
       "      <td>Zack McSwain</td>\n",
       "      <td>US</td>\n",
       "      <td>Region 1</td>\n",
       "      <td>Carolina</td>\n",
       "      <td>1030</td>\n",
       "      <td>513</td>\n",
       "      <td>3</td>\n",
       "      <td>3</td>\n",
       "      <td>131</td>\n",
       "      <td>...</td>\n",
       "      <td>14</td>\n",
       "      <td>37816</td>\n",
       "      <td>18810</td>\n",
       "      <td>1.21</td>\n",
       "      <td>P 4.47</td>\n",
       "      <td>8421</td>\n",
       "      <td>1299</td>\n",
       "      <td>4556</td>\n",
       "      <td>134695</td>\n",
       "      <td>366325</td>\n",
       "    </tr>\n",
       "  </tbody>\n",
       "</table>\n",
       "<p>5 rows × 21 columns</p>\n",
       "</div>"
      ],
      "text/plain": [
       "   Pos             Driver Location    Region      Club  Starts  Wins  \\\n",
       "0    1    Blake Matjoulis       US  Region 1  New York     854   533   \n",
       "1    2  Dillon Semmelmann       US  Region 3   Midwest    1857  1183   \n",
       "2    3          Evan Seay       US  Region 1  Carolina     935   320   \n",
       "3    4    Alex A Bergeron       CA  Region 2    Canada    1397   898   \n",
       "4    5       Zack McSwain       US  Region 1  Carolina    1030   513   \n",
       "\n",
       "   Avg Start  Avg Finish  Avg Pts per Race  ...  Avg Field Size   Laps  \\\n",
       "0          3           2               139  ...              14  31716   \n",
       "1          2           3               135  ...              15  60376   \n",
       "2          4           4               117  ...              14  34052   \n",
       "3          3           2               127  ...              14  46674   \n",
       "4          3           3               131  ...              14  37816   \n",
       "\n",
       "   Laps Lead  Avg Inc   Class iRating  ttRating  Club Pts  Total Pts  CustId  \n",
       "0      19687     1.31  P 4.99    9361      1350     14275     118383  273418  \n",
       "1      40022     2.19  P 3.49    9110      1329     10306     250122  270914  \n",
       "2      13097     1.90  P 4.37    8868      1235      5018     109414  330143  \n",
       "3      28271     1.52  P 4.52    8557      1377     29758     177230  246298  \n",
       "4      18810     1.21  P 4.47    8421      1299      4556     134695  366325  \n",
       "\n",
       "[5 rows x 21 columns]"
      ]
     },
     "execution_count": 2,
     "metadata": {},
     "output_type": "execute_result"
    }
   ],
   "source": [
    "import pandas as pd\n",
    "\n",
    "file = 'Downloads/Dirt_Oval_B_and_above.csv'\n",
    "\n",
    "df = pd.read_csv(file, encoding='latin-1')\n",
    "df.head()"
   ]
  },
  {
   "cell_type": "code",
   "execution_count": 14,
   "metadata": {},
   "outputs": [
    {
     "data": {
      "text/html": [
       "<div>\n",
       "<style scoped>\n",
       "    .dataframe tbody tr th:only-of-type {\n",
       "        vertical-align: middle;\n",
       "    }\n",
       "\n",
       "    .dataframe tbody tr th {\n",
       "        vertical-align: top;\n",
       "    }\n",
       "\n",
       "    .dataframe thead th {\n",
       "        text-align: right;\n",
       "    }\n",
       "</style>\n",
       "<table border=\"1\" class=\"dataframe\">\n",
       "  <thead>\n",
       "    <tr style=\"text-align: right;\">\n",
       "      <th></th>\n",
       "      <th>Pos</th>\n",
       "      <th>Starts</th>\n",
       "      <th>Wins</th>\n",
       "      <th>Avg Start</th>\n",
       "      <th>Avg Finish</th>\n",
       "      <th>Avg Pts per Race</th>\n",
       "      <th>Top 25%</th>\n",
       "      <th>Avg Field Size</th>\n",
       "      <th>Laps</th>\n",
       "      <th>Laps Lead</th>\n",
       "      <th>Avg Inc</th>\n",
       "      <th>iRating</th>\n",
       "      <th>ttRating</th>\n",
       "      <th>Club Pts</th>\n",
       "      <th>Total Pts</th>\n",
       "      <th>CustId</th>\n",
       "    </tr>\n",
       "  </thead>\n",
       "  <tbody>\n",
       "    <tr>\n",
       "      <th>count</th>\n",
       "      <td>10768.000000</td>\n",
       "      <td>10768.000000</td>\n",
       "      <td>10768.000000</td>\n",
       "      <td>10768.000000</td>\n",
       "      <td>10768.000000</td>\n",
       "      <td>10768.000000</td>\n",
       "      <td>10768.000000</td>\n",
       "      <td>10768.000000</td>\n",
       "      <td>10768.000000</td>\n",
       "      <td>10768.000000</td>\n",
       "      <td>10768.000000</td>\n",
       "      <td>10768.000000</td>\n",
       "      <td>10768.000000</td>\n",
       "      <td>10768.000000</td>\n",
       "      <td>10768.000000</td>\n",
       "      <td>10768.000000</td>\n",
       "    </tr>\n",
       "    <tr>\n",
       "      <th>mean</th>\n",
       "      <td>5386.896360</td>\n",
       "      <td>154.527117</td>\n",
       "      <td>14.074944</td>\n",
       "      <td>6.920227</td>\n",
       "      <td>6.717868</td>\n",
       "      <td>45.966010</td>\n",
       "      <td>37.238484</td>\n",
       "      <td>12.524796</td>\n",
       "      <td>4100.139766</td>\n",
       "      <td>470.484770</td>\n",
       "      <td>2.873240</td>\n",
       "      <td>1780.911404</td>\n",
       "      <td>1297.476504</td>\n",
       "      <td>492.797455</td>\n",
       "      <td>8195.636701</td>\n",
       "      <td>276877.759937</td>\n",
       "    </tr>\n",
       "    <tr>\n",
       "      <th>std</th>\n",
       "      <td>3111.609175</td>\n",
       "      <td>231.940029</td>\n",
       "      <td>43.319058</td>\n",
       "      <td>1.528786</td>\n",
       "      <td>1.206884</td>\n",
       "      <td>17.414178</td>\n",
       "      <td>84.353903</td>\n",
       "      <td>1.143034</td>\n",
       "      <td>6629.678693</td>\n",
       "      <td>1492.877161</td>\n",
       "      <td>0.984858</td>\n",
       "      <td>895.945173</td>\n",
       "      <td>91.764452</td>\n",
       "      <td>1355.785293</td>\n",
       "      <td>16403.046353</td>\n",
       "      <td>137150.424173</td>\n",
       "    </tr>\n",
       "    <tr>\n",
       "      <th>min</th>\n",
       "      <td>1.000000</td>\n",
       "      <td>1.000000</td>\n",
       "      <td>0.000000</td>\n",
       "      <td>1.000000</td>\n",
       "      <td>1.000000</td>\n",
       "      <td>0.000000</td>\n",
       "      <td>0.000000</td>\n",
       "      <td>3.000000</td>\n",
       "      <td>0.000000</td>\n",
       "      <td>0.000000</td>\n",
       "      <td>0.000000</td>\n",
       "      <td>89.000000</td>\n",
       "      <td>337.000000</td>\n",
       "      <td>0.000000</td>\n",
       "      <td>0.000000</td>\n",
       "      <td>18.000000</td>\n",
       "    </tr>\n",
       "    <tr>\n",
       "      <th>25%</th>\n",
       "      <td>2692.750000</td>\n",
       "      <td>39.000000</td>\n",
       "      <td>1.000000</td>\n",
       "      <td>6.000000</td>\n",
       "      <td>6.000000</td>\n",
       "      <td>35.000000</td>\n",
       "      <td>6.000000</td>\n",
       "      <td>12.000000</td>\n",
       "      <td>940.000000</td>\n",
       "      <td>40.000000</td>\n",
       "      <td>2.250000</td>\n",
       "      <td>1277.000000</td>\n",
       "      <td>1243.000000</td>\n",
       "      <td>35.000000</td>\n",
       "      <td>1597.750000</td>\n",
       "      <td>170264.500000</td>\n",
       "    </tr>\n",
       "    <tr>\n",
       "      <th>50%</th>\n",
       "      <td>5384.500000</td>\n",
       "      <td>84.000000</td>\n",
       "      <td>4.000000</td>\n",
       "      <td>7.000000</td>\n",
       "      <td>7.000000</td>\n",
       "      <td>43.000000</td>\n",
       "      <td>16.000000</td>\n",
       "      <td>13.000000</td>\n",
       "      <td>2034.000000</td>\n",
       "      <td>135.000000</td>\n",
       "      <td>2.840000</td>\n",
       "      <td>1542.000000</td>\n",
       "      <td>1350.000000</td>\n",
       "      <td>117.000000</td>\n",
       "      <td>3479.000000</td>\n",
       "      <td>292708.000000</td>\n",
       "    </tr>\n",
       "    <tr>\n",
       "      <th>75%</th>\n",
       "      <td>8082.250000</td>\n",
       "      <td>177.000000</td>\n",
       "      <td>12.000000</td>\n",
       "      <td>8.000000</td>\n",
       "      <td>7.000000</td>\n",
       "      <td>53.000000</td>\n",
       "      <td>36.000000</td>\n",
       "      <td>13.000000</td>\n",
       "      <td>4538.000000</td>\n",
       "      <td>375.000000</td>\n",
       "      <td>3.460000</td>\n",
       "      <td>2001.250000</td>\n",
       "      <td>1350.000000</td>\n",
       "      <td>379.000000</td>\n",
       "      <td>8157.250000</td>\n",
       "      <td>377386.750000</td>\n",
       "    </tr>\n",
       "    <tr>\n",
       "      <th>max</th>\n",
       "      <td>10777.000000</td>\n",
       "      <td>4169.000000</td>\n",
       "      <td>1203.000000</td>\n",
       "      <td>18.000000</td>\n",
       "      <td>18.000000</td>\n",
       "      <td>154.000000</td>\n",
       "      <td>2420.000000</td>\n",
       "      <td>19.000000</td>\n",
       "      <td>124603.000000</td>\n",
       "      <td>40536.000000</td>\n",
       "      <td>18.000000</td>\n",
       "      <td>9361.000000</td>\n",
       "      <td>2139.000000</td>\n",
       "      <td>29916.000000</td>\n",
       "      <td>451344.000000</td>\n",
       "      <td>538739.000000</td>\n",
       "    </tr>\n",
       "  </tbody>\n",
       "</table>\n",
       "</div>"
      ],
      "text/plain": [
       "                Pos        Starts          Wins     Avg Start    Avg Finish  \\\n",
       "count  10768.000000  10768.000000  10768.000000  10768.000000  10768.000000   \n",
       "mean    5386.896360    154.527117     14.074944      6.920227      6.717868   \n",
       "std     3111.609175    231.940029     43.319058      1.528786      1.206884   \n",
       "min        1.000000      1.000000      0.000000      1.000000      1.000000   \n",
       "25%     2692.750000     39.000000      1.000000      6.000000      6.000000   \n",
       "50%     5384.500000     84.000000      4.000000      7.000000      7.000000   \n",
       "75%     8082.250000    177.000000     12.000000      8.000000      7.000000   \n",
       "max    10777.000000   4169.000000   1203.000000     18.000000     18.000000   \n",
       "\n",
       "       Avg Pts per Race       Top 25%  Avg Field Size           Laps  \\\n",
       "count      10768.000000  10768.000000    10768.000000   10768.000000   \n",
       "mean          45.966010     37.238484       12.524796    4100.139766   \n",
       "std           17.414178     84.353903        1.143034    6629.678693   \n",
       "min            0.000000      0.000000        3.000000       0.000000   \n",
       "25%           35.000000      6.000000       12.000000     940.000000   \n",
       "50%           43.000000     16.000000       13.000000    2034.000000   \n",
       "75%           53.000000     36.000000       13.000000    4538.000000   \n",
       "max          154.000000   2420.000000       19.000000  124603.000000   \n",
       "\n",
       "          Laps Lead       Avg Inc       iRating      ttRating      Club Pts  \\\n",
       "count  10768.000000  10768.000000  10768.000000  10768.000000  10768.000000   \n",
       "mean     470.484770      2.873240   1780.911404   1297.476504    492.797455   \n",
       "std     1492.877161      0.984858    895.945173     91.764452   1355.785293   \n",
       "min        0.000000      0.000000     89.000000    337.000000      0.000000   \n",
       "25%       40.000000      2.250000   1277.000000   1243.000000     35.000000   \n",
       "50%      135.000000      2.840000   1542.000000   1350.000000    117.000000   \n",
       "75%      375.000000      3.460000   2001.250000   1350.000000    379.000000   \n",
       "max    40536.000000     18.000000   9361.000000   2139.000000  29916.000000   \n",
       "\n",
       "           Total Pts         CustId  \n",
       "count   10768.000000   10768.000000  \n",
       "mean     8195.636701  276877.759937  \n",
       "std     16403.046353  137150.424173  \n",
       "min         0.000000      18.000000  \n",
       "25%      1597.750000  170264.500000  \n",
       "50%      3479.000000  292708.000000  \n",
       "75%      8157.250000  377386.750000  \n",
       "max    451344.000000  538739.000000  "
      ]
     },
     "execution_count": 14,
     "metadata": {},
     "output_type": "execute_result"
    }
   ],
   "source": [
    "df.describe()\n"
   ]
  },
  {
   "cell_type": "code",
   "execution_count": 15,
   "metadata": {},
   "outputs": [],
   "source": [
    "df = df[df['Avg Start'] !=0]\n",
    "df = df[df['Avg Finish'] !=0]\n",
    "df = df[df['Total Pts'] !=0]"
   ]
  },
  {
   "cell_type": "code",
   "execution_count": 17,
   "metadata": {},
   "outputs": [
    {
     "data": {
      "text/plain": [
       "<matplotlib.axes._subplots.AxesSubplot at 0x7ff1351cfee0>"
      ]
     },
     "execution_count": 17,
     "metadata": {},
     "output_type": "execute_result"
    },
    {
     "data": {
      "image/png": "[encoded data removed]",
      "text/plain": [
       "<Figure size 432x288 with 1 Axes>"
      ]
     },
     "metadata": {
      "needs_background": "light"
     },
     "output_type": "display_data"
    }
   ],
   "source": [
    "df['Avg Finish'].plot(kind='hist', bins=18)"
   ]
  },
  {
   "cell_type": "code",
   "execution_count": 18,
   "metadata": {},
   "outputs": [
    {
     "data": {
      "text/plain": [
       "<matplotlib.axes._subplots.AxesSubplot at 0x7ff135179d00>"
      ]
     },
     "execution_count": 18,
     "metadata": {},
     "output_type": "execute_result"
    },
    {
     "data": {
      "image/png": "[encoded data removed]",
      "text/plain": [
       "<Figure size 432x288 with 1 Axes>"
      ]
     },
     "metadata": {
      "needs_background": "light"
     },
     "output_type": "display_data"
    }
   ],
   "source": [
    "df['Avg Pts per Race'].plot(kind='hist', bins=19)"
   ]
  },
  {
   "cell_type": "code",
   "execution_count": 19,
   "metadata": {},
   "outputs": [
    {
     "data": {
      "text/plain": [
       "7     0.323940\n",
       "6     0.231027\n",
       "8     0.202753\n",
       "5     0.085286\n",
       "9     0.069661\n",
       "4     0.030785\n",
       "10    0.023065\n",
       "3     0.013486\n",
       "11    0.008464\n",
       "2     0.004092\n",
       "12    0.003162\n",
       "13    0.001395\n",
       "14    0.000930\n",
       "1     0.000837\n",
       "18    0.000372\n",
       "16    0.000372\n",
       "15    0.000279\n",
       "17    0.000093\n",
       "Name: Avg Start, dtype: float64"
      ]
     },
     "execution_count": 19,
     "metadata": {},
     "output_type": "execute_result"
    }
   ],
   "source": [
    "df['Avg Finish'].value_counts(normalize='True')"
   ]
  },
  {
   "cell_type": "code",
   "execution_count": 20,
   "metadata": {},
   "outputs": [
    {
     "data": {
      "text/plain": [
       "(10752, 21)"
      ]
     },
     "execution_count": 20,
     "metadata": {},
     "output_type": "execute_result"
    }
   ],
   "source": [
    "df.shape"
   ]
  },
  {
   "cell_type": "code",
   "execution_count": 21,
   "metadata": {},
   "outputs": [],
   "source": [
    "# Predicting the average start as a classification question looks to be intriguing.  \n",
    "# There are 18 classes, with 32 percent in the majority class (7th starting position.)\n",
    "# Because of the balance, accuracy will be my target.\n",
    "\n",
    "# Certain observations will be dropped, as they should have no bearing.  Such as, I believe, Location and Region."
   ]
  },
  {
   "cell_type": "code",
   "execution_count": 29,
   "metadata": {},
   "outputs": [
    {
     "data": {
      "text/plain": [
       "Index(['Pos', 'Driver', 'Location', 'Region', 'Club', 'Starts', 'Wins',\n",
       "       'Avg Start', 'Avg Finish', 'Avg Pts per Race', 'Top 25%',\n",
       "       'Avg Field Size', 'Laps', 'Laps Lead', 'Avg Inc', 'Class', 'iRating',\n",
       "       'ttRating', 'Club Pts', 'Total Pts', 'CustId'],\n",
       "      dtype='object')"
      ]
     },
     "execution_count": 29,
     "metadata": {},
     "output_type": "execute_result"
    }
   ],
   "source": [
    "df.columns"
   ]
  },
  {
   "cell_type": "code",
   "execution_count": null,
   "metadata": {},
   "outputs": [],
   "source": [
    "# import sklearn.model_selection as model_selection\n",
    "\n",
    "# X_train, X_test, y_train, y_test = model_selection.train_test_split(X, y, train_size=0.65,test_size=0.35, random_state=42)"
   ]
  },
  {
   "cell_type": "code",
   "execution_count": 25,
   "metadata": {},
   "outputs": [
    {
     "data": {
      "image/png": "[encoded data removed]",
      "text/plain": [
       "<Figure size 432x288 with 1 Axes>"
      ]
     },
     "metadata": {
      "needs_background": "light"
     },
     "output_type": "display_data"
    }
   ],
   "source": [
    "import matplotlib.pyplot as plt\n",
    "\n",
    "\n",
    "X = df['Avg Start']\n",
    "y = df['Avg Finish']\n",
    "\n",
    "\n",
    "\n",
    "# Plot\n",
    "plt.scatter(X, y, alpha=0.1)\n",
    "plt.title('Start to Finish')\n",
    "plt.xlabel('Avg Start')\n",
    "plt.ylabel('Avg Finish')\n",
    "plt.show()"
   ]
  },
  {
   "cell_type": "code",
   "execution_count": 27,
   "metadata": {},
   "outputs": [
    {
     "data": {
      "image/png": "[encoded data removed]",
      "text/plain": [
       "<Figure size 432x288 with 1 Axes>"
      ]
     },
     "metadata": {
      "needs_background": "light"
     },
     "output_type": "display_data"
    }
   ],
   "source": [
    "X = df['Avg Pts per Race']\n",
    "\n",
    "plt.scatter(X, y, alpha=0.1)\n",
    "plt.title('Points per Race to Finish')\n",
    "plt.xlabel('Avg Pts per Race')\n",
    "plt.ylabel('Avg Finish')\n",
    "plt.show()"
   ]
  },
  {
   "cell_type": "code",
   "execution_count": 28,
   "metadata": {},
   "outputs": [
    {
     "data": {
      "image/png": "[encoded data removed]",
      "text/plain": [
       "<Figure size 432x288 with 1 Axes>"
      ]
     },
     "metadata": {
      "needs_background": "light"
     },
     "output_type": "display_data"
    }
   ],
   "source": [
    "X = df['Avg Inc']\n",
    "\n",
    "plt.scatter(X, y, alpha=0.1)\n",
    "plt.title('Incidentsto Finish')\n",
    "plt.xlabel('Avg incidents per Race')\n",
    "plt.ylabel('Avg Finish')\n",
    "plt.show()\n",
    "\n",
    "# The coorellation here doesn't seem to be as strong as I had anticipated."
   ]
  },
  {
   "cell_type": "code",
   "execution_count": null,
   "metadata": {},
   "outputs": [],
   "source": []
  }
 ],
 "metadata": {
  "kernelspec": {
   "display_name": "Python 3",
   "language": "python",
   "name": "python3"
  },
  "language_info": {
   "codemirror_mode": {
    "name": "ipython",
    "version": 3
   },
   "file_extension": ".py",
   "mimetype": "text/x-python",
   "name": "python",
   "nbconvert_exporter": "python",
   "pygments_lexer": "ipython3",
   "version": "3.8.3"
  }
 },
 "nbformat": 4,
 "nbformat_minor": 4
}
