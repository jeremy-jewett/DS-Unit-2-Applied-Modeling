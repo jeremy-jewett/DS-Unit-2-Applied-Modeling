{
 "cells": [
  {
   "cell_type": "markdown",
   "metadata": {},
   "source": [
    "Lambda School Data Science\n",
    "\n",
    "*Unit 2, Sprint 3, Module 2*\n",
    "\n",
    "---\n",
    "\n",
    "\n",
    "# Wrangle ML datasets\n",
    "\n",
    "- [ ] Continue to clean and explore your data. \n",
    "- [ ] For the evaluation metric you chose, what score would you get just by guessing?\n",
    "- [ ] Can you make a fast, first model that beats guessing?\n",
    "\n",
    "**We recommend that you use your portfolio project dataset for all assignments this sprint.**\n",
    "\n",
    "**But if you aren't ready yet, or you want more practice, then use the New York City property sales dataset for today's assignment.** Follow the instructions below, to just keep a subset for the Tribeca neighborhood, and remove outliers or dirty data. [Here's a video walkthrough](https://youtu.be/pPWFw8UtBVg?t=584) you can refer to if you get stuck or want hints!\n",
    "\n",
    "- Data Source: [NYC OpenData: NYC Citywide Rolling Calendar Sales](https://data.cityofnewyork.us/dataset/NYC-Citywide-Rolling-Calendar-Sales/usep-8jbt)\n",
    "- Glossary: [NYC Department of Finance: Rolling Sales Data](https://www1.nyc.gov/site/finance/taxes/property-rolling-sales-data.page)"
   ]
  },
  {
   "cell_type": "code",
   "execution_count": 1,
   "metadata": {
    "jupyter": {
     "source_hidden": true
    }
   },
   "outputs": [],
   "source": [
    "%%capture\n",
    "import sys\n",
    "\n",
    "# If you're on Colab:\n",
    "if 'google.colab' in sys.modules:\n",
    "    DATA_PATH = 'https://raw.githubusercontent.com/LambdaSchool/DS-Unit-2-Applied-Modeling/master/data/'\n",
    "    !pip install category_encoders==2.*\n",
    "    !pip install pandas-profiling==2.*\n",
    "\n",
    "# If you're working locally:\n",
    "else:\n",
    "    DATA_PATH = '/data/'"
   ]
  },
  {
   "cell_type": "code",
   "execution_count": 2,
   "metadata": {},
   "outputs": [
    {
     "data": {
      "text/html": [
       "<div>\n",
       "<style scoped>\n",
       "    .dataframe tbody tr th:only-of-type {\n",
       "        vertical-align: middle;\n",
       "    }\n",
       "\n",
       "    .dataframe tbody tr th {\n",
       "        vertical-align: top;\n",
       "    }\n",
       "\n",
       "    .dataframe thead th {\n",
       "        text-align: right;\n",
       "    }\n",
       "</style>\n",
       "<table border=\"1\" class=\"dataframe\">\n",
       "  <thead>\n",
       "    <tr style=\"text-align: right;\">\n",
       "      <th></th>\n",
       "      <th>Pos</th>\n",
       "      <th>Driver</th>\n",
       "      <th>Location</th>\n",
       "      <th>Region</th>\n",
       "      <th>Club</th>\n",
       "      <th>Starts</th>\n",
       "      <th>Wins</th>\n",
       "      <th>Avg Start</th>\n",
       "      <th>Avg Finish</th>\n",
       "      <th>Avg Pts per Race</th>\n",
       "      <th>...</th>\n",
       "      <th>Avg Field Size</th>\n",
       "      <th>Laps</th>\n",
       "      <th>Laps Lead</th>\n",
       "      <th>Avg Inc</th>\n",
       "      <th>Class</th>\n",
       "      <th>iRating</th>\n",
       "      <th>ttRating</th>\n",
       "      <th>Club Pts</th>\n",
       "      <th>Total Pts</th>\n",
       "      <th>CustId</th>\n",
       "    </tr>\n",
       "  </thead>\n",
       "  <tbody>\n",
       "    <tr>\n",
       "      <th>0</th>\n",
       "      <td>1</td>\n",
       "      <td>Blake Matjoulis</td>\n",
       "      <td>US</td>\n",
       "      <td>Region 1</td>\n",
       "      <td>New York</td>\n",
       "      <td>854</td>\n",
       "      <td>533</td>\n",
       "      <td>3</td>\n",
       "      <td>2</td>\n",
       "      <td>139</td>\n",
       "      <td>...</td>\n",
       "      <td>14</td>\n",
       "      <td>31716</td>\n",
       "      <td>19687</td>\n",
       "      <td>1.31</td>\n",
       "      <td>P 4.99</td>\n",
       "      <td>9361</td>\n",
       "      <td>1350</td>\n",
       "      <td>14275</td>\n",
       "      <td>118383</td>\n",
       "      <td>273418</td>\n",
       "    </tr>\n",
       "    <tr>\n",
       "      <th>1</th>\n",
       "      <td>2</td>\n",
       "      <td>Dillon Semmelmann</td>\n",
       "      <td>US</td>\n",
       "      <td>Region 3</td>\n",
       "      <td>Midwest</td>\n",
       "      <td>1857</td>\n",
       "      <td>1183</td>\n",
       "      <td>2</td>\n",
       "      <td>3</td>\n",
       "      <td>135</td>\n",
       "      <td>...</td>\n",
       "      <td>15</td>\n",
       "      <td>60376</td>\n",
       "      <td>40022</td>\n",
       "      <td>2.19</td>\n",
       "      <td>P 3.49</td>\n",
       "      <td>9110</td>\n",
       "      <td>1329</td>\n",
       "      <td>10306</td>\n",
       "      <td>250122</td>\n",
       "      <td>270914</td>\n",
       "    </tr>\n",
       "    <tr>\n",
       "      <th>2</th>\n",
       "      <td>3</td>\n",
       "      <td>Evan Seay</td>\n",
       "      <td>US</td>\n",
       "      <td>Region 1</td>\n",
       "      <td>Carolina</td>\n",
       "      <td>935</td>\n",
       "      <td>320</td>\n",
       "      <td>4</td>\n",
       "      <td>4</td>\n",
       "      <td>117</td>\n",
       "      <td>...</td>\n",
       "      <td>14</td>\n",
       "      <td>34052</td>\n",
       "      <td>13097</td>\n",
       "      <td>1.90</td>\n",
       "      <td>P 4.37</td>\n",
       "      <td>8868</td>\n",
       "      <td>1235</td>\n",
       "      <td>5018</td>\n",
       "      <td>109414</td>\n",
       "      <td>330143</td>\n",
       "    </tr>\n",
       "    <tr>\n",
       "      <th>3</th>\n",
       "      <td>4</td>\n",
       "      <td>Alex A Bergeron</td>\n",
       "      <td>CA</td>\n",
       "      <td>Region 2</td>\n",
       "      <td>Canada</td>\n",
       "      <td>1397</td>\n",
       "      <td>898</td>\n",
       "      <td>3</td>\n",
       "      <td>2</td>\n",
       "      <td>127</td>\n",
       "      <td>...</td>\n",
       "      <td>14</td>\n",
       "      <td>46674</td>\n",
       "      <td>28271</td>\n",
       "      <td>1.52</td>\n",
       "      <td>P 4.52</td>\n",
       "      <td>8557</td>\n",
       "      <td>1377</td>\n",
       "      <td>29758</td>\n",
       "      <td>177230</td>\n",
       "      <td>246298</td>\n",
       "    </tr>\n",
       "    <tr>\n",
       "      <th>4</th>\n",
       "      <td>5</td>\n",
       "      <td>Zack McSwain</td>\n",
       "      <td>US</td>\n",
       "      <td>Region 1</td>\n",
       "      <td>Carolina</td>\n",
       "      <td>1030</td>\n",
       "      <td>513</td>\n",
       "      <td>3</td>\n",
       "      <td>3</td>\n",
       "      <td>131</td>\n",
       "      <td>...</td>\n",
       "      <td>14</td>\n",
       "      <td>37816</td>\n",
       "      <td>18810</td>\n",
       "      <td>1.21</td>\n",
       "      <td>P 4.47</td>\n",
       "      <td>8421</td>\n",
       "      <td>1299</td>\n",
       "      <td>4556</td>\n",
       "      <td>134695</td>\n",
       "      <td>366325</td>\n",
       "    </tr>\n",
       "  </tbody>\n",
       "</table>\n",
       "<p>5 rows × 21 columns</p>\n",
       "</div>"
      ],
      "text/plain": [
       "   Pos             Driver Location    Region      Club  Starts  Wins  \\\n",
       "0    1    Blake Matjoulis       US  Region 1  New York     854   533   \n",
       "1    2  Dillon Semmelmann       US  Region 3   Midwest    1857  1183   \n",
       "2    3          Evan Seay       US  Region 1  Carolina     935   320   \n",
       "3    4    Alex A Bergeron       CA  Region 2    Canada    1397   898   \n",
       "4    5       Zack McSwain       US  Region 1  Carolina    1030   513   \n",
       "\n",
       "   Avg Start  Avg Finish  Avg Pts per Race  ...  Avg Field Size   Laps  \\\n",
       "0          3           2               139  ...              14  31716   \n",
       "1          2           3               135  ...              15  60376   \n",
       "2          4           4               117  ...              14  34052   \n",
       "3          3           2               127  ...              14  46674   \n",
       "4          3           3               131  ...              14  37816   \n",
       "\n",
       "   Laps Lead  Avg Inc   Class iRating  ttRating  Club Pts  Total Pts  CustId  \n",
       "0      19687     1.31  P 4.99    9361      1350     14275     118383  273418  \n",
       "1      40022     2.19  P 3.49    9110      1329     10306     250122  270914  \n",
       "2      13097     1.90  P 4.37    8868      1235      5018     109414  330143  \n",
       "3      28271     1.52  P 4.52    8557      1377     29758     177230  246298  \n",
       "4      18810     1.21  P 4.47    8421      1299      4556     134695  366325  \n",
       "\n",
       "[5 rows x 21 columns]"
      ]
     },
     "execution_count": 2,
     "metadata": {},
     "output_type": "execute_result"
    }
   ],
   "source": [
    "# import pandas as pd\n",
    "\n",
    "# file = 'Downloads/Dirt_Oval_B_and_above.csv'\n",
    "\n",
    "# df = pd.read_csv(file, encoding='latin-1')\n",
    "# df.head()"
   ]
  },
  {
   "cell_type": "code",
   "execution_count": null,
   "metadata": {},
   "outputs": [],
   "source": [
    "# df = df[df['Avg Start'] !=0]\n",
    "# df = df[df['Avg Finish'] !=0]\n",
    "# df = df[df['Total Pts'] !=0]"
   ]
  },
  {
   "cell_type": "code",
   "execution_count": null,
   "metadata": {},
   "outputs": [],
   "source": []
  },
  {
   "cell_type": "code",
   "execution_count": 2,
   "metadata": {},
   "outputs": [],
   "source": [
    "# Read New York City property sales data\n",
    "import pandas as pd\n",
    "df = pd.read_csv('DS-Unit-2-Applied-Modeling/data/condos/NYC_Citywide_Rolling_Calendar_Sales.csv')"
   ]
  },
  {
   "cell_type": "code",
   "execution_count": 3,
   "metadata": {},
   "outputs": [
    {
     "data": {
      "text/plain": [
       "Index(['BOROUGH', 'NEIGHBORHOOD', 'BUILDING CLASS CATEGORY',\n",
       "       'TAX CLASS AT PRESENT', 'BLOCK', 'LOT', 'EASE-MENT',\n",
       "       'BUILDING CLASS AT PRESENT', 'ADDRESS', 'APARTMENT NUMBER', 'ZIP CODE',\n",
       "       'RESIDENTIAL UNITS', 'COMMERCIAL UNITS', 'TOTAL UNITS',\n",
       "       'LAND SQUARE FEET', 'GROSS SQUARE FEET', 'YEAR BUILT',\n",
       "       'TAX CLASS AT TIME OF SALE', 'BUILDING CLASS AT TIME OF SALE',\n",
       "       'SALE PRICE', 'SALE DATE'],\n",
       "      dtype='object')"
      ]
     },
     "execution_count": 3,
     "metadata": {},
     "output_type": "execute_result"
    }
   ],
   "source": [
    "df.columns"
   ]
  },
  {
   "cell_type": "markdown",
   "metadata": {},
   "source": [
    "Your code starts here:"
   ]
  },
  {
   "cell_type": "code",
   "execution_count": 4,
   "metadata": {},
   "outputs": [],
   "source": [
    "# Change column names: replace spaces with underscores\n",
    "df = df.rename(columns={'BUILDING CLASS AT PRESENT': 'BUILDING_CLASS_AT_PRESENT',\n",
    "                  'APARTMENT NUMBER':'APARTMENT_NUMBER',\n",
    "                  'RESIDENTIAL UNITS':'RESIDENTIAL_UNITS',\n",
    "                  'COMMERCIAL UNITS':'COMMERCIAL_UNITS',\n",
    "                        'TOTAL UNITS':'TOTAL_UNITS',\n",
    "                       'LAND SQUARE FEET':'LAND_SQUARE_FEET',\n",
    "                       'GROSS SQUARE FEET':'GROSS_SQUARE_FEET',\n",
    "                       'YEAR BUILT':'YEAR_BUILT',\n",
    "                       'TAX CLASS AT TIME OF SALE':'TAX_CLASS_AT_TIME_OF_SALE',\n",
    "                       'BUILDING CLASS AT TIME OF SALE':'BUILDING_CLASS_AT_TIME_OF_SALE',\n",
    "                       'SALE PRICE':'SALE_PRICE',\n",
    "                       'SALE DATE':'SALE_DATE'})"
   ]
  },
  {
   "cell_type": "code",
   "execution_count": 5,
   "metadata": {},
   "outputs": [
    {
     "ename": "ModuleNotFoundError",
     "evalue": "No module named 'pandas_profiling'",
     "output_type": "error",
     "traceback": [
      "\u001b[0;31m---------------------------------------------------------------------------\u001b[0m",
      "\u001b[0;31mModuleNotFoundError\u001b[0m                       Traceback (most recent call last)",
      "\u001b[0;32m<ipython-input-5-44f04426e9ea>\u001b[0m in \u001b[0;36m<module>\u001b[0;34m\u001b[0m\n\u001b[1;32m      1\u001b[0m \u001b[0;31m# Get Pandas Profiling Report\u001b[0m\u001b[0;34m\u001b[0m\u001b[0;34m\u001b[0m\u001b[0;34m\u001b[0m\u001b[0m\n\u001b[0;32m----> 2\u001b[0;31m \u001b[0;32mimport\u001b[0m \u001b[0mpandas_profiling\u001b[0m\u001b[0;34m\u001b[0m\u001b[0;34m\u001b[0m\u001b[0m\n\u001b[0m\u001b[1;32m      3\u001b[0m \u001b[0mdf\u001b[0m\u001b[0;34m.\u001b[0m\u001b[0mprofile_report\u001b[0m\u001b[0;34m(\u001b[0m\u001b[0;34m)\u001b[0m\u001b[0;34m\u001b[0m\u001b[0;34m\u001b[0m\u001b[0m\n",
      "\u001b[0;31mModuleNotFoundError\u001b[0m: No module named 'pandas_profiling'"
     ]
    }
   ],
   "source": [
    "# Get Pandas Profiling Report\n",
    "import pandas_profiling\n",
    "df.profile_report()"
   ]
  },
  {
   "cell_type": "code",
   "execution_count": 6,
   "metadata": {},
   "outputs": [
    {
     "data": {
      "text/plain": [
       "(146, 21)"
      ]
     },
     "execution_count": 6,
     "metadata": {},
     "output_type": "execute_result"
    }
   ],
   "source": [
    "# Keep just the subset of data for the Tribeca neighborhood\n",
    "# Check how many rows you have now. (Should go down from > 20k rows to 146)\n",
    "tribeca_df = df[df['NEIGHBORHOOD'] == \"TRIBECA\"]\n",
    "tribeca_df.shape"
   ]
  },
  {
   "cell_type": "code",
   "execution_count": 7,
   "metadata": {},
   "outputs": [
    {
     "name": "stderr",
     "output_type": "stream",
     "text": [
      "<ipython-input-7-6280a9e303ac>:4: SettingWithCopyWarning: \n",
      "A value is trying to be set on a copy of a slice from a DataFrame.\n",
      "Try using .loc[row_indexer,col_indexer] = value instead\n",
      "\n",
      "See the caveats in the documentation: https://pandas.pydata.org/pandas-docs/stable/user_guide/indexing.html#returning-a-view-versus-a-copy\n",
      "  tribeca_df['SALE_DATE'] = pd.to_datetime(tribeca_df['SALE_DATE'], infer_datetime_format=True)\n"
     ]
    },
    {
     "data": {
      "text/plain": [
       "count                     146\n",
       "unique                     66\n",
       "top       2019-02-12 00:00:00\n",
       "freq                       17\n",
       "first     2019-01-03 00:00:00\n",
       "last      2019-04-30 00:00:00\n",
       "Name: SALE_DATE, dtype: object"
      ]
     },
     "execution_count": 7,
     "metadata": {},
     "output_type": "execute_result"
    }
   ],
   "source": [
    "# Q. What's the date range of these property sales in Tribeca?\n",
    "\n",
    "#First, make them dates.\n",
    "tribeca_df['SALE_DATE'] = pd.to_datetime(tribeca_df['SALE_DATE'], infer_datetime_format=True)\n",
    "\n",
    "tribeca_df['SALE_DATE'].describe()"
   ]
  },
  {
   "cell_type": "code",
   "execution_count": 8,
   "metadata": {},
   "outputs": [
    {
     "name": "stderr",
     "output_type": "stream",
     "text": [
      "<ipython-input-8-fa14b0cadb0f>:4: SettingWithCopyWarning: \n",
      "A value is trying to be set on a copy of a slice from a DataFrame.\n",
      "Try using .loc[row_indexer,col_indexer] = value instead\n",
      "\n",
      "See the caveats in the documentation: https://pandas.pydata.org/pandas-docs/stable/user_guide/indexing.html#returning-a-view-versus-a-copy\n",
      "  tribeca_df['SALE_PRICE'] = tribeca_df['SALE_PRICE'].str.replace('$','')\n",
      "<ipython-input-8-fa14b0cadb0f>:5: SettingWithCopyWarning: \n",
      "A value is trying to be set on a copy of a slice from a DataFrame.\n",
      "Try using .loc[row_indexer,col_indexer] = value instead\n",
      "\n",
      "See the caveats in the documentation: https://pandas.pydata.org/pandas-docs/stable/user_guide/indexing.html#returning-a-view-versus-a-copy\n",
      "  tribeca_df['SALE_PRICE'] = tribeca_df['SALE_PRICE'].str.replace('-','')\n",
      "<ipython-input-8-fa14b0cadb0f>:6: SettingWithCopyWarning: \n",
      "A value is trying to be set on a copy of a slice from a DataFrame.\n",
      "Try using .loc[row_indexer,col_indexer] = value instead\n",
      "\n",
      "See the caveats in the documentation: https://pandas.pydata.org/pandas-docs/stable/user_guide/indexing.html#returning-a-view-versus-a-copy\n",
      "  tribeca_df['SALE_PRICE'] = tribeca_df['SALE_PRICE'].str.replace(',','')\n",
      "<ipython-input-8-fa14b0cadb0f>:7: SettingWithCopyWarning: \n",
      "A value is trying to be set on a copy of a slice from a DataFrame.\n",
      "Try using .loc[row_indexer,col_indexer] = value instead\n",
      "\n",
      "See the caveats in the documentation: https://pandas.pydata.org/pandas-docs/stable/user_guide/indexing.html#returning-a-view-versus-a-copy\n",
      "  tribeca_df['SALE_PRICE'] = tribeca_df['SALE_PRICE'].astype(int)\n"
     ]
    }
   ],
   "source": [
    "# The Pandas Profiling Report showed that SALE_PRICE was read as strings\n",
    "# Convert it to integers\n",
    "\n",
    "tribeca_df['SALE_PRICE'] = tribeca_df['SALE_PRICE'].str.replace('$','')\n",
    "tribeca_df['SALE_PRICE'] = tribeca_df['SALE_PRICE'].str.replace('-','')\n",
    "tribeca_df['SALE_PRICE'] = tribeca_df['SALE_PRICE'].str.replace(',','')\n",
    "tribeca_df['SALE_PRICE'] = tribeca_df['SALE_PRICE'].astype(int)\n"
   ]
  },
  {
   "cell_type": "code",
   "execution_count": 10,
   "metadata": {},
   "outputs": [
    {
     "data": {
      "text/plain": [
       "260000000"
      ]
     },
     "execution_count": 10,
     "metadata": {},
     "output_type": "execute_result"
    }
   ],
   "source": [
    "# Q. What is the maximum SALE_PRICE in this dataset?\n",
    "tribeca_df['SALE_PRICE'].max()"
   ]
  },
  {
   "cell_type": "code",
   "execution_count": 13,
   "metadata": {},
   "outputs": [
    {
     "data": {
      "text/html": [
       "<div>\n",
       "<style scoped>\n",
       "    .dataframe tbody tr th:only-of-type {\n",
       "        vertical-align: middle;\n",
       "    }\n",
       "\n",
       "    .dataframe tbody tr th {\n",
       "        vertical-align: top;\n",
       "    }\n",
       "\n",
       "    .dataframe thead th {\n",
       "        text-align: right;\n",
       "    }\n",
       "</style>\n",
       "<table border=\"1\" class=\"dataframe\">\n",
       "  <thead>\n",
       "    <tr style=\"text-align: right;\">\n",
       "      <th></th>\n",
       "      <th>BOROUGH</th>\n",
       "      <th>NEIGHBORHOOD</th>\n",
       "      <th>BUILDING CLASS CATEGORY</th>\n",
       "      <th>TAX CLASS AT PRESENT</th>\n",
       "      <th>BLOCK</th>\n",
       "      <th>LOT</th>\n",
       "      <th>EASE-MENT</th>\n",
       "      <th>BUILDING_CLASS_AT_PRESENT</th>\n",
       "      <th>ADDRESS</th>\n",
       "      <th>APARTMENT_NUMBER</th>\n",
       "      <th>...</th>\n",
       "      <th>RESIDENTIAL_UNITS</th>\n",
       "      <th>COMMERCIAL_UNITS</th>\n",
       "      <th>TOTAL_UNITS</th>\n",
       "      <th>LAND_SQUARE_FEET</th>\n",
       "      <th>GROSS_SQUARE_FEET</th>\n",
       "      <th>YEAR_BUILT</th>\n",
       "      <th>TAX_CLASS_AT_TIME_OF_SALE</th>\n",
       "      <th>BUILDING_CLASS_AT_TIME_OF_SALE</th>\n",
       "      <th>SALE_PRICE</th>\n",
       "      <th>SALE_DATE</th>\n",
       "    </tr>\n",
       "  </thead>\n",
       "  <tbody>\n",
       "    <tr>\n",
       "      <th>6499</th>\n",
       "      <td>1</td>\n",
       "      <td>TRIBECA</td>\n",
       "      <td>08 RENTALS - ELEVATOR APARTMENTS</td>\n",
       "      <td>2</td>\n",
       "      <td>224</td>\n",
       "      <td>1</td>\n",
       "      <td>NaN</td>\n",
       "      <td>D8</td>\n",
       "      <td>34 DESBROSSES STREET</td>\n",
       "      <td>NaN</td>\n",
       "      <td>...</td>\n",
       "      <td>283.0</td>\n",
       "      <td>3.0</td>\n",
       "      <td>286.0</td>\n",
       "      <td>36,858</td>\n",
       "      <td>305542.0</td>\n",
       "      <td>2007.0</td>\n",
       "      <td>2</td>\n",
       "      <td>D8</td>\n",
       "      <td>260000000</td>\n",
       "      <td>2019-02-01</td>\n",
       "    </tr>\n",
       "  </tbody>\n",
       "</table>\n",
       "<p>1 rows × 21 columns</p>\n",
       "</div>"
      ],
      "text/plain": [
       "      BOROUGH NEIGHBORHOOD           BUILDING CLASS CATEGORY  \\\n",
       "6499        1      TRIBECA  08 RENTALS - ELEVATOR APARTMENTS   \n",
       "\n",
       "     TAX CLASS AT PRESENT  BLOCK  LOT  EASE-MENT BUILDING_CLASS_AT_PRESENT  \\\n",
       "6499                    2    224    1        NaN                        D8   \n",
       "\n",
       "                   ADDRESS APARTMENT_NUMBER  ...  RESIDENTIAL_UNITS  \\\n",
       "6499  34 DESBROSSES STREET              NaN  ...              283.0   \n",
       "\n",
       "      COMMERCIAL_UNITS  TOTAL_UNITS  LAND_SQUARE_FEET GROSS_SQUARE_FEET  \\\n",
       "6499               3.0        286.0            36,858          305542.0   \n",
       "\n",
       "      YEAR_BUILT  TAX_CLASS_AT_TIME_OF_SALE  BUILDING_CLASS_AT_TIME_OF_SALE  \\\n",
       "6499      2007.0                          2                              D8   \n",
       "\n",
       "     SALE_PRICE  SALE_DATE  \n",
       "6499  260000000 2019-02-01  \n",
       "\n",
       "[1 rows x 21 columns]"
      ]
     },
     "execution_count": 13,
     "metadata": {},
     "output_type": "execute_result"
    }
   ],
   "source": [
    "# Look at the row with the max SALE_PRICE\n",
    "tribeca_df.query('SALE_PRICE==260000000')"
   ]
  },
  {
   "cell_type": "code",
   "execution_count": 14,
   "metadata": {},
   "outputs": [
    {
     "data": {
      "text/plain": [
       "1.0      131\n",
       "0.0       11\n",
       "5.0        1\n",
       "286.0      1\n",
       "8.0        1\n",
       "3.0        1\n",
       "Name: TOTAL_UNITS, dtype: int64"
      ]
     },
     "execution_count": 14,
     "metadata": {},
     "output_type": "execute_result"
    }
   ],
   "source": [
    "# Get value counts of TOTAL_UNITS\n",
    "# Q. How many property sales were for multiple units?\n",
    "tribeca_df['TOTAL_UNITS'].value_counts()"
   ]
  },
  {
   "cell_type": "code",
   "execution_count": 15,
   "metadata": {},
   "outputs": [],
   "source": [
    "# Keep only the single units\n",
    "single_df = tribeca_df[tribeca_df['TOTAL_UNITS']==1]"
   ]
  },
  {
   "cell_type": "code",
   "execution_count": 16,
   "metadata": {},
   "outputs": [
    {
     "data": {
      "text/plain": [
       "(131, 21)"
      ]
     },
     "execution_count": 16,
     "metadata": {},
     "output_type": "execute_result"
    }
   ],
   "source": [
    "single_df.shape"
   ]
  },
  {
   "cell_type": "code",
   "execution_count": 17,
   "metadata": {},
   "outputs": [
    {
     "data": {
      "text/plain": [
       "39285000"
      ]
     },
     "execution_count": 17,
     "metadata": {},
     "output_type": "execute_result"
    }
   ],
   "source": [
    "# Q. Now what is the max sales price? How many square feet does it have?\n",
    "single_df['SALE_PRICE'].max()"
   ]
  },
  {
   "cell_type": "code",
   "execution_count": null,
   "metadata": {},
   "outputs": [],
   "source": [
    "# Q. How often did $0 sales occur in this subset of the data?\n",
    "\n",
    "# There's a glossary here: \n",
    "# https://www1.nyc.gov/site/finance/taxes/property-rolling-sales-data.page\n",
    "\n",
    "# It says:\n",
    "# A $0 sale indicates that there was a transfer of ownership without a \n",
    "# cash consideration. There can be a number of reasons for a $0 sale including \n",
    "# transfers of ownership from parents to children. \n",
    "\n"
   ]
  },
  {
   "cell_type": "code",
   "execution_count": null,
   "metadata": {},
   "outputs": [],
   "source": [
    "# Look at property sales for > 5,000 square feet\n",
    "# Q. What is the highest square footage you see?\n"
   ]
  },
  {
   "cell_type": "code",
   "execution_count": null,
   "metadata": {},
   "outputs": [],
   "source": [
    "# What are the building class categories?\n",
    "# How frequently does each occur?\n"
   ]
  },
  {
   "cell_type": "code",
   "execution_count": null,
   "metadata": {},
   "outputs": [],
   "source": [
    "# Keep subset of rows:\n",
    "# Sale price more than $0, \n",
    "# Building class category = Condos - Elevator Apartments\n",
    "\n",
    "# Check how many rows you have now. (Should be 106 rows.)\n"
   ]
  },
  {
   "cell_type": "code",
   "execution_count": null,
   "metadata": {},
   "outputs": [],
   "source": [
    "# Make a Plotly Express scatter plot of GROSS_SQUARE_FEET vs SALE_PRICE\n"
   ]
  },
  {
   "cell_type": "code",
   "execution_count": null,
   "metadata": {},
   "outputs": [],
   "source": [
    "# Add an OLS (Ordinary Least Squares) trendline,\n",
    "# to see how the outliers influence the \"line of best fit\"\n"
   ]
  },
  {
   "cell_type": "code",
   "execution_count": null,
   "metadata": {},
   "outputs": [],
   "source": [
    "# Look at sales for more than $35 million\n",
    "\n",
    "# All are at 70 Vestry Street\n",
    "# All but one have the same SALE_PRICE & SALE_DATE\n",
    "# Was the SALE_PRICE for each? Or in total?\n",
    "# Is this dirty data?\n"
   ]
  },
  {
   "cell_type": "code",
   "execution_count": null,
   "metadata": {},
   "outputs": [],
   "source": [
    "# Make a judgment call:\n",
    "# Keep rows where sale price was < $35 million\n",
    "\n",
    "# Check how many rows you have now. (Should be down to 90 rows.)\n"
   ]
  },
  {
   "cell_type": "code",
   "execution_count": null,
   "metadata": {},
   "outputs": [],
   "source": [
    "# Now that you've removed outliers,\n",
    "# Look again at a scatter plot with OLS (Ordinary Least Squares) trendline\n"
   ]
  },
  {
   "cell_type": "code",
   "execution_count": null,
   "metadata": {},
   "outputs": [],
   "source": [
    "# Select these columns, then write to a csv file named tribeca.csv. Don't include the index.\n"
   ]
  }
 ],
 "metadata": {
  "jupytext": {
   "cell_metadata_filter": "-all",
   "main_language": "python",
   "notebook_metadata_filter": "-all"
  },
  "kernelspec": {
   "display_name": "Python 3",
   "language": "python",
   "name": "python3"
  },
  "language_info": {
   "codemirror_mode": {
    "name": "ipython",
    "version": 3
   },
   "file_extension": ".py",
   "mimetype": "text/x-python",
   "name": "python",
   "nbconvert_exporter": "python",
   "pygments_lexer": "ipython3",
   "version": "3.8.3"
  }
 },
 "nbformat": 4,
 "nbformat_minor": 4
}
